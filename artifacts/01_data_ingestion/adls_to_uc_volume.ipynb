{
 "cells": [
  {
   "cell_type": "code",
   "execution_count": 0,
   "metadata": {
    "application/vnd.databricks.v1+cell": {
     "cellMetadata": {
      "byteLimit": 2048000,
      "rowLimit": 10000
     },
     "inputWidgets": {},
     "nuid": "3dda9270-98f8-4034-a7e8-a15992e0124a",
     "showTitle": false,
     "tableResultSettingsMap": {},
     "title": ""
    }
   },
   "outputs": [],
   "source": [
    "# spark.sql(\"use catalog hp_az_catalog\")\n",
    "# spark.sql(\"use schema hp_iris_ml\")"
   ]
  },
  {
   "cell_type": "code",
   "execution_count": 0,
   "metadata": {
    "application/vnd.databricks.v1+cell": {
     "cellMetadata": {
      "byteLimit": 2048000,
      "rowLimit": 10000
     },
     "inputWidgets": {},
     "nuid": "9883e2d4-80e4-49fb-8c2e-3eeb3491b7b3",
     "showTitle": false,
     "tableResultSettingsMap": {},
     "title": ""
    }
   },
   "outputs": [],
   "source": [
    "dbutils.widgets.text(\"source_path\", \"abfss://deltalake@oneenvadls.dfs.core.windows.net/hema_dir/models\")\n",
    "dbutils.widgets.text(\"volume_path\", \"/Volumes/hp_az_catalog/hp_iris_ml/hp_ml_vol\")\n",
    "dbutils.widgets.text(\"checkpoint_path\", \"/Volumes/hp_az_catalog/hp_iris_ml/hp_ml_vol/checkpoints\")"
   ]
  },
  {
   "cell_type": "code",
   "execution_count": 0,
   "metadata": {
    "application/vnd.databricks.v1+cell": {
     "cellMetadata": {
      "byteLimit": 2048000,
      "rowLimit": 10000
     },
     "inputWidgets": {},
     "nuid": "461d80aa-b5aa-499e-bad1-68fdfd1bfb81",
     "showTitle": false,
     "tableResultSettingsMap": {},
     "title": ""
    }
   },
   "outputs": [],
   "source": [
    "source_path = dbutils.widgets.get(\"source_path\")\n",
    "volume_path = dbutils.widgets.get(\"volume_path\")\n",
    "checkpoint_path = dbutils.widgets.get(\"checkpoint_path\")"
   ]
  },
  {
   "cell_type": "code",
   "execution_count": 0,
   "metadata": {
    "application/vnd.databricks.v1+cell": {
     "cellMetadata": {
      "byteLimit": 2048000,
      "rowLimit": 10000
     },
     "inputWidgets": {},
     "nuid": "cf74d80d-15b2-438b-99e5-feaef4494d61",
     "showTitle": false,
     "tableResultSettingsMap": {},
     "title": ""
    }
   },
   "outputs": [],
   "source": [
    "from pyspark.sql import SparkSession\n",
    "from pyspark.sql.functions import input_file_name, current_timestamp\n",
    "import os\n",
    "\n",
    "spark = SparkSession.builder.getOrCreate()\n",
    "df = (\n",
    "    spark.readStream\n",
    "    .format(\"cloudFiles\")\n",
    "    .option(\"cloudFiles.format\", \"binaryFile\")\n",
    "    .option(\"cloudFiles.includeExistingFiles\", \"true\")  \n",
    "    .option(\"pathGlobFilter\", \"*.pkl\")  # only .pkl files\n",
    "    .load(source_path)\n",
    "    .withColumn(\"ingest_time\", current_timestamp())\n",
    ")\n",
    "\n",
    "def write_binary_to_volume(batch_df, batch_id):\n",
    "    import os\n",
    "    for row in batch_df.collect():\n",
    "        file_name = os.path.basename(row[\"path\"])\n",
    "        target_path = os.path.join(volume_path, file_name)\n",
    "        content = row[\"content\"]\n",
    "        with open(target_path, \"wb\") as f:\n",
    "            f.write(content)\n",
    "\n",
    "query = (\n",
    "    df.writeStream\n",
    "    .foreachBatch(write_binary_to_volume)\n",
    "    .option(\"checkpointLocation\", checkpoint_path)\n",
    "    .trigger(once=True)\n",
    "    .start()\n",
    ")\n",
    "query.awaitTermination()"
   ]
  }
 ],
 "metadata": {
  "application/vnd.databricks.v1+notebook": {
   "computePreferences": null,
   "dashboards": [],
   "environmentMetadata": {
    "base_environment": "",
    "environment_version": "4"
   },
   "inputWidgetPreferences": null,
   "language": "python",
   "notebookMetadata": {
    "pythonIndentUnit": 2
   },
   "notebookName": "adls_to_uc_volume",
   "widgets": {
    "checkpoint_path": {
     "currentValue": "/Volumes/hp_az_catalog/hp_iris_ml/hp_ml_vol/checkpoints",
     "nuid": "6a57f5d6-035f-4d73-9ee2-14848a497ee3",
     "typedWidgetInfo": {
      "autoCreated": false,
      "defaultValue": "/Volumes/hp_az_catalog/hp_iris_ml/hp_ml_vol/checkpoints",
      "label": null,
      "name": "checkpoint_path",
      "options": {
       "widgetDisplayType": "Text",
       "validationRegex": null
      },
      "parameterDataType": "String"
     },
     "widgetInfo": {
      "widgetType": "text",
      "defaultValue": "/Volumes/hp_az_catalog/hp_iris_ml/hp_ml_vol/checkpoints",
      "label": null,
      "name": "checkpoint_path",
      "options": {
       "widgetType": "text",
       "autoCreated": false,
       "validationRegex": null
      }
     }
    },
    "source_path": {
     "currentValue": "abfss://deltalake@oneenvadls.dfs.core.windows.net/hema_dir/models",
     "nuid": "2b964447-35f5-4537-af9c-e19477d72147",
     "typedWidgetInfo": {
      "autoCreated": false,
      "defaultValue": "abfss://deltalake@oneenvadls.dfs.core.windows.net/hema_dir/models",
      "label": "",
      "name": "source_path",
      "options": {
       "widgetDisplayType": "Text",
       "validationRegex": null
      },
      "parameterDataType": "String"
     },
     "widgetInfo": {
      "widgetType": "text",
      "defaultValue": "abfss://deltalake@oneenvadls.dfs.core.windows.net/hema_dir/models",
      "label": "",
      "name": "source_path",
      "options": {
       "widgetType": "text",
       "autoCreated": false,
       "validationRegex": null
      }
     }
    },
    "volume_path": {
     "currentValue": "/Volumes/hp_az_catalog/hp_iris_ml/hp_ml_vol",
     "nuid": "e1ca342c-18cf-4681-abc0-9d700867c0a4",
     "typedWidgetInfo": {
      "autoCreated": false,
      "defaultValue": "/Volumes/hp_az_catalog/hp_iris_ml/hp_ml_vol",
      "label": null,
      "name": "volume_path",
      "options": {
       "widgetDisplayType": "Text",
       "validationRegex": null
      },
      "parameterDataType": "String"
     },
     "widgetInfo": {
      "widgetType": "text",
      "defaultValue": "/Volumes/hp_az_catalog/hp_iris_ml/hp_ml_vol",
      "label": null,
      "name": "volume_path",
      "options": {
       "widgetType": "text",
       "autoCreated": false,
       "validationRegex": null
      }
     }
    }
   }
  },
  "language_info": {
   "name": "python"
  }
 },
 "nbformat": 4,
 "nbformat_minor": 0
}
