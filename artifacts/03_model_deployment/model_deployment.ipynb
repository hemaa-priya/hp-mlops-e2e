{
 "cells": [
  {
   "cell_type": "code",
   "execution_count": 0,
   "metadata": {
    "application/vnd.databricks.v1+cell": {
     "cellMetadata": {
      "byteLimit": 2048000,
      "rowLimit": 10000
     },
     "inputWidgets": {},
     "nuid": "a55bf363-6640-4d6c-9a37-9a987263ed6d",
     "showTitle": false,
     "tableResultSettingsMap": {},
     "title": ""
    }
   },
   "outputs": [],
   "source": [
    "spark.sql(\"USE CATALOG hp_az_catalog\")\n",
    "spark.sql(\"USE SCHEMA hp_iris_ml\")"
   ]
  },
  {
   "cell_type": "code",
   "execution_count": 0,
   "metadata": {
    "application/vnd.databricks.v1+cell": {
     "cellMetadata": {
      "byteLimit": 2048000,
      "rowLimit": 10000
     },
     "inputWidgets": {},
     "nuid": "cc0ecbe2-b333-4ed5-b678-e796a5436a3c",
     "showTitle": false,
     "tableResultSettingsMap": {},
     "title": ""
    }
   },
   "outputs": [],
   "source": [
    "%pip install mlflow=='3.4.0'\n",
    "dbutils.library.restartPython()"
   ]
  },
  {
   "cell_type": "code",
   "execution_count": 0,
   "metadata": {
    "application/vnd.databricks.v1+cell": {
     "cellMetadata": {
      "byteLimit": 2048000,
      "rowLimit": 10000
     },
     "inputWidgets": {},
     "nuid": "e1a591bf-d02e-4da3-ad55-d4ab8275fc2b",
     "showTitle": false,
     "tableResultSettingsMap": {},
     "title": ""
    }
   },
   "outputs": [],
   "source": [
    "from databricks.sdk import WorkspaceClient\n",
    "from databricks.sdk.service.serving import (\n",
    "  ServedEntityInput,\n",
    "  EndpointCoreConfigInput\n",
    ")\n",
    "from databricks.sdk.errors import ResourceDoesNotExist\n",
    "from mlflow import MlflowClient\n"
   ]
  },
  {
   "cell_type": "code",
   "execution_count": 0,
   "metadata": {
    "application/vnd.databricks.v1+cell": {
     "cellMetadata": {
      "byteLimit": 2048000,
      "rowLimit": 10000
     },
     "inputWidgets": {},
     "nuid": "4fa7acc2-2b67-4f8c-91d2-9ce520d625dc",
     "showTitle": false,
     "tableResultSettingsMap": {},
     "title": ""
    }
   },
   "outputs": [],
   "source": [
    "# Promote the model version to Champion\n",
    "client = MlflowClient()\n",
    "model_name = \"hp_az_catalog.hp_iris_ml.irisclassifierdemo\"\n",
    "model_version = \"5\"\n",
    "client.set_registered_model_alias(\n",
    "    f'{model_name}',\n",
    "    \"Champion\",\n",
    "    model_version\n",
    ")\n"
   ]
  },
  {
   "cell_type": "code",
   "execution_count": 0,
   "metadata": {
    "application/vnd.databricks.v1+cell": {
     "cellMetadata": {
      "byteLimit": 2048000,
      "rowLimit": 10000
     },
     "inputWidgets": {},
     "nuid": "36585e23-1fc3-4aa4-8ff1-f3a980de7c4d",
     "showTitle": false,
     "tableResultSettingsMap": {},
     "title": ""
    }
   },
   "outputs": [],
   "source": [
    "# Create a serving endpoint for the model\n",
    "# REQUIRED: Enter serving endpoint name\n",
    "serving_endpoint_name = model_name.replace('.', '-') + \"-endpoint\"\n",
    "\n",
    "w = WorkspaceClient()  # Assumes DATABRICKS_HOST and DATABRICKS_TOKEN are set\n",
    "served_entities=[\n",
    "  ServedEntityInput(\n",
    "    entity_name=model_name,\n",
    "    entity_version=model_version,\n",
    "    workload_size=\"Small\",\n",
    "    scale_to_zero_enabled=True\n",
    "  )\n",
    "]\n",
    "\n",
    "# Update serving endpoint if it already exists, otherwise create the serving endpoint\n",
    "try:\n",
    "  w.serving_endpoints.update_config(name=serving_endpoint_name, served_entities=served_entities)\n",
    "except ResourceDoesNotExist:\n",
    "  w.serving_endpoints.create(name=serving_endpoint_name, config=EndpointCoreConfigInput(served_entities=served_entities))\n"
   ]
  },
  {
   "cell_type": "code",
   "execution_count": 0,
   "metadata": {
    "application/vnd.databricks.v1+cell": {
     "cellMetadata": {
      "byteLimit": 2048000,
      "rowLimit": 10000
     },
     "inputWidgets": {},
     "nuid": "aa73aa61-ecb4-4fe0-a946-65745b8dd002",
     "showTitle": false,
     "tableResultSettingsMap": {},
     "title": ""
    }
   },
   "outputs": [],
   "source": [
    "w.serving_endpoints"
   ]
  }
 ],
 "metadata": {
  "application/vnd.databricks.v1+notebook": {
   "computePreferences": null,
   "dashboards": [],
   "environmentMetadata": {
    "base_environment": "",
    "environment_version": "4"
   },
   "inputWidgetPreferences": null,
   "language": "python",
   "notebookMetadata": {
    "pythonIndentUnit": 2
   },
   "notebookName": "model_deployment",
   "widgets": {}
  },
  "language_info": {
   "name": "python"
  }
 },
 "nbformat": 4,
 "nbformat_minor": 0
}
