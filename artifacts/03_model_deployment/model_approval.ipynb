{
 "cells": [
  {
   "cell_type": "code",
   "execution_count": 0,
   "metadata": {
    "application/vnd.databricks.v1+cell": {
     "cellMetadata": {
      "byteLimit": 2048000,
      "rowLimit": 10000
     },
     "inputWidgets": {},
     "nuid": "d50a82b3-111d-47ae-b049-e8264be011eb",
     "showTitle": false,
     "tableResultSettingsMap": {},
     "title": ""
    }
   },
   "outputs": [],
   "source": [
    "spark.sql(\"USE CATALOG hp_az_catalog\")\n",
    "spark.sql(\"USE SCHEMA hp_iris_ml\")"
   ]
  },
  {
   "cell_type": "code",
   "execution_count": 0,
   "metadata": {
    "application/vnd.databricks.v1+cell": {
     "cellMetadata": {
      "byteLimit": 2048000,
      "rowLimit": 10000
     },
     "inputWidgets": {},
     "nuid": "fd92bb99-fb88-4761-9e73-efd6f1d81b92",
     "showTitle": false,
     "tableResultSettingsMap": {},
     "title": ""
    }
   },
   "outputs": [],
   "source": [
    "%pip install mlflow=='3.4.0'\n",
    "dbutils.library.restartPython()"
   ]
  },
  {
   "cell_type": "code",
   "execution_count": 0,
   "metadata": {
    "application/vnd.databricks.v1+cell": {
     "cellMetadata": {
      "byteLimit": 2048000,
      "rowLimit": 10000
     },
     "inputWidgets": {},
     "nuid": "61db2785-ffcf-4fef-b89b-71c8d12bf33e",
     "showTitle": false,
     "tableResultSettingsMap": {},
     "title": ""
    }
   },
   "outputs": [],
   "source": [
    "model_name = \"irisclassifierdemo\"\n",
    "model_version = \"10\"\n",
    "approval_tag_name = \"approval\""
   ]
  },
  {
   "cell_type": "code",
   "execution_count": 0,
   "metadata": {
    "application/vnd.databricks.v1+cell": {
     "cellMetadata": {
      "byteLimit": 2048000,
      "rowLimit": 10000
     },
     "inputWidgets": {},
     "nuid": "40060071-0718-45b5-beab-bbd874be97eb",
     "showTitle": false,
     "tableResultSettingsMap": {},
     "title": ""
    }
   },
   "outputs": [],
   "source": [
    "from mlflow import MlflowClient\n",
    "client = MlflowClient(registry_uri=\"databricks-uc\")\n",
    "\n",
    "# fetch the model version's UC tags\n",
    "model_tags = client.get_model_version(model_name, model_version).tags\n",
    "print(model_tags)\n",
    "# check if any tag matches the approval tag name\n",
    "if not any(tag == approval_tag_name for tag in model_tags.keys()):\n",
    "  raise Exception(\"Model version not approved for deployment\")\n",
    "else:\n",
    "  # if tag is found, check if it is approved\n",
    "  if model_tags.get(approval_tag_name).lower() == \"approved\":\n",
    "    print(\"Model version approved for deployment\")\n",
    "  else:\n",
    "    raise Exception(\"Model version not approved for deployment\")\n"
   ]
  }
 ],
 "metadata": {
  "application/vnd.databricks.v1+notebook": {
   "computePreferences": null,
   "dashboards": [],
   "environmentMetadata": {
    "base_environment": "",
    "environment_version": "4"
   },
   "inputWidgetPreferences": null,
   "language": "python",
   "notebookMetadata": {
    "pythonIndentUnit": 2
   },
   "notebookName": "model_approval",
   "widgets": {}
  },
  "language_info": {
   "name": "python"
  }
 },
 "nbformat": 4,
 "nbformat_minor": 0
}
