{
 "cells": [
  {
   "cell_type": "code",
   "execution_count": 0,
   "metadata": {
    "application/vnd.databricks.v1+cell": {
     "cellMetadata": {
      "byteLimit": 2048000,
      "rowLimit": 10000
     },
     "inputWidgets": {},
     "nuid": "12ecf01b-13ad-43a1-979e-2cbf8ba7c4b3",
     "showTitle": false,
     "tableResultSettingsMap": {},
     "title": ""
    }
   },
   "outputs": [],
   "source": [
    "spark.sql(\"USE CATALOG hp_az_catalog\") \n",
    "spark.sql(\"USE SCHEMA hp_iris_ml\")"
   ]
  },
  {
   "cell_type": "code",
   "execution_count": 0,
   "metadata": {
    "application/vnd.databricks.v1+cell": {
     "cellMetadata": {
      "byteLimit": 2048000,
      "rowLimit": 10000
     },
     "inputWidgets": {},
     "nuid": "e07b0516-c368-4411-95d5-f2e18a3f789e",
     "showTitle": false,
     "tableResultSettingsMap": {},
     "title": ""
    }
   },
   "outputs": [],
   "source": [
    "%pip install mlflow=='3.4.0'\n",
    "dbutils.library.restartPython()"
   ]
  },
  {
   "cell_type": "code",
   "execution_count": 0,
   "metadata": {
    "application/vnd.databricks.v1+cell": {
     "cellMetadata": {
      "byteLimit": 2048000,
      "rowLimit": 10000
     },
     "inputWidgets": {},
     "nuid": "7f57981b-ed4f-4c04-80e4-18d23ef00115",
     "showTitle": false,
     "tableResultSettingsMap": {},
     "title": ""
    }
   },
   "outputs": [],
   "source": [
    "import numpy\n",
    "import pandas as pd\n",
    "import mlflow\n",
    "from sklearn import datasets"
   ]
  },
  {
   "cell_type": "code",
   "execution_count": 0,
   "metadata": {
    "application/vnd.databricks.v1+cell": {
     "cellMetadata": {
      "byteLimit": 2048000,
      "rowLimit": 10000
     },
     "inputWidgets": {},
     "nuid": "abaed558-1357-484a-87dc-124343a8335a",
     "showTitle": false,
     "tableResultSettingsMap": {},
     "title": ""
    }
   },
   "outputs": [],
   "source": [
    "iris_samples = datasets.load_iris(as_frame=True)\n",
    "df_samples = pd.DataFrame(data = iris_samples['data'], columns = iris_samples['feature_names'])\n",
    "df_samples.columns = df_samples.columns.str.replace(' ', '_').str.replace('(', '').str.replace(')', '')\n",
    "df_samples['species'] = iris_samples.target.astype(int)\n",
    "df_samples.head()"
   ]
  },
  {
   "cell_type": "code",
   "execution_count": 0,
   "metadata": {
    "application/vnd.databricks.v1+cell": {
     "cellMetadata": {
      "byteLimit": 2048000,
      "rowLimit": 10000
     },
     "inputWidgets": {},
     "nuid": "eb29ec83-629a-4663-afb5-0b112c999890",
     "showTitle": false,
     "tableResultSettingsMap": {},
     "title": ""
    }
   },
   "outputs": [],
   "source": [
    "model_info = mlflow.pyfunc.load_model(model_uri)\n",
    "print(model_info.metadata.get_input_schema())"
   ]
  },
  {
   "cell_type": "code",
   "execution_count": 0,
   "metadata": {
    "application/vnd.databricks.v1+cell": {
     "cellMetadata": {
      "byteLimit": 2048000,
      "rowLimit": 10000
     },
     "inputWidgets": {},
     "nuid": "a51aa374-9c17-48c6-a553-2ec46eb1af26",
     "showTitle": false,
     "tableResultSettingsMap": {},
     "title": ""
    }
   },
   "outputs": [],
   "source": [
    "eval_data = df_samples.rename(columns={\n",
    "    \"sepal_length_cm\": \"sepal length (cm)\",\n",
    "    \"sepal_width_cm\": \"sepal width (cm)\",\n",
    "    \"petal_length_cm\": \"petal length (cm)\",\n",
    "    \"petal_width_cm\": \"petal width (cm)\"\n",
    "})\n",
    "\n",
    "target = \"species\"\n",
    "model_type = \"classifier\"\n",
    "model_name = \"irisclassifierdemo\"\n",
    "model_version = \"5\"\n",
    "model_uri = f\"models:/{model_name}/{model_version}\"\n",
    "\n",
    "with mlflow.start_run(run_name=\"evaluation\") as run:\n",
    "    mlflow.models.evaluate(\n",
    "        model=model_uri,\n",
    "        data=eval_data,\n",
    "        targets=\"species\",\n",
    "        model_type=model_type\n",
    "    )\n"
   ]
  }
 ],
 "metadata": {
  "application/vnd.databricks.v1+notebook": {
   "computePreferences": null,
   "dashboards": [],
   "environmentMetadata": {
    "base_environment": "",
    "environment_version": "4"
   },
   "inputWidgetPreferences": null,
   "language": "python",
   "notebookMetadata": {
    "pythonIndentUnit": 2
   },
   "notebookName": "model_evaluation",
   "widgets": {}
  },
  "language_info": {
   "name": "python"
  }
 },
 "nbformat": 4,
 "nbformat_minor": 0
}
