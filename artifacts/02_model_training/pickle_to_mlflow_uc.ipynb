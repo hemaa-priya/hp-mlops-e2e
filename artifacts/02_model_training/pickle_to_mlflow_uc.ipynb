{
 "cells": [
  {
   "cell_type": "code",
   "execution_count": 0,
   "metadata": {
    "application/vnd.databricks.v1+cell": {
     "cellMetadata": {
      "byteLimit": 2048000,
      "implicitDf": true,
      "rowLimit": 10000
     },
     "inputWidgets": {},
     "nuid": "5239415d-9bed-4c98-8f38-d5164e9843fd",
     "showTitle": false,
     "tableResultSettingsMap": {},
     "title": ""
    }
   },
   "outputs": [],
   "source": [
    "spark.sql(\"USE CATALOG hp_az_catalog\")\n",
    "spark.sql(\"USE SCHEMA hp_iris_ml\")"
   ]
  },
  {
   "cell_type": "code",
   "execution_count": 0,
   "metadata": {
    "application/vnd.databricks.v1+cell": {
     "cellMetadata": {
      "byteLimit": 2048000,
      "rowLimit": 10000
     },
     "inputWidgets": {},
     "nuid": "81ae85d8-5bdb-4c5b-85dc-8e8201711a9b",
     "showTitle": false,
     "tableResultSettingsMap": {},
     "title": ""
    }
   },
   "outputs": [],
   "source": [
    "dbutils.widgets.text(\"pkl_path\", \"/Volumes/hp_az_catalog/hp_iris_ml/hp_ml_vol/iris_model.pkl\")\n",
    "dbutils.widgets.text(\"experiment_path\", \"/Users/hemapriya.nagarajan@databricks.com/models/hp_iris_ml\")"
   ]
  },
  {
   "cell_type": "code",
   "execution_count": 0,
   "metadata": {
    "application/vnd.databricks.v1+cell": {
     "cellMetadata": {
      "byteLimit": 2048000,
      "rowLimit": 10000
     },
     "inputWidgets": {},
     "nuid": "ebb5bad8-b878-47e6-91b6-3e01fd294d9b",
     "showTitle": false,
     "tableResultSettingsMap": {},
     "title": ""
    }
   },
   "outputs": [],
   "source": [
    "import pandas as pd\n",
    "from sklearn.datasets import load_iris\n",
    "import pickle\n",
    "import mlflow\n",
    "from mlflow.models.signature import infer_signature\n",
    "\n",
    "pkl_path = dbutils.widgets.get(\"pkl_path\")\n",
    "experiment_path = dbutils.widgets.get(\"experiment_path\")\n",
    "model_name = 'iris_model'\n",
    "with open(pkl_path, \"rb\") as f:\n",
    "    model = pickle.load(f)\n",
    "\n",
    "# Sample data to infer schema\n",
    "iris = load_iris()\n",
    "sample = pd.DataFrame(iris.data, columns=iris.feature_names)\n",
    "preds = model.predict(sample)\n",
    "signature = infer_signature(sample, preds)\n",
    "\n",
    "class SklearnWrapper(mlflow.pyfunc.PythonModel):\n",
    "    def load_context(self, context):\n",
    "        import pickle\n",
    "        with open(context.artifacts[\"model_path\"], \"rb\") as f:\n",
    "            self.model = pickle.load(f)\n",
    "    def predict(self, context, model_input):\n",
    "        return self.model.predict(model_input)"
   ]
  },
  {
   "cell_type": "code",
   "execution_count": null,
   "metadata": {},
   "outputs": [],
   "source": [
    "import mlflow\n",
    "exp = mlflow.get_experiment_by_name(\"/Users/hemapriya.nagarajan@databricks.com/models/hp_iris_ml\")\n",
    "print(exp)"
   ]
  },
  {
   "cell_type": "code",
   "execution_count": 0,
   "metadata": {
    "application/vnd.databricks.v1+cell": {
     "cellMetadata": {
      "byteLimit": 2048000,
      "rowLimit": 10000
     },
     "inputWidgets": {},
     "nuid": "3f566d88-6872-478e-9618-20dbc4ee27d4",
     "showTitle": false,
     "tableResultSettingsMap": {},
     "title": ""
    }
   },
   "outputs": [],
   "source": [
    "import mlflow\n",
    "# mlflow.set_experiment(exp.experiment_id)\n",
    "\n",
    "with mlflow.start_run(experiment_id=exp.experiment_id):\n",
    "    artifacts = {\"model_path\": pkl_path}\n",
    "    mlflow.pyfunc.log_model(\n",
    "        artifact_path=\"pickle_model\",\n",
    "        python_model=SklearnWrapper(),\n",
    "        artifacts=artifacts,\n",
    "        signature=signature,\n",
    "    )\n",
    "    run_id = mlflow.active_run().info.run_id\n",
    "\n",
    "# Register to Model Registry\n",
    "model_uri = f\"runs:/{run_id}/pickle_model\"\n",
    "model_details = mlflow.register_model(model_uri, \"IrisClassifierDemo\")\n",
    "print(\"Registered:\", model_details)"
   ]
  },
  {
   "cell_type": "code",
   "execution_count": 0,
   "metadata": {
    "application/vnd.databricks.v1+cell": {
     "cellMetadata": {
      "byteLimit": 2048000,
      "rowLimit": 10000
     },
     "inputWidgets": {},
     "nuid": "fa311972-3aab-420f-9360-67cf574cf91c",
     "showTitle": false,
     "tableResultSettingsMap": {},
     "title": ""
    }
   },
   "outputs": [],
   "source": [
    "# Out of all runs in the experiment, only register the run with the best selected metric\n",
    "# If you want, you can simply register the latest run instead, for example.\n",
    "client = mlflow.tracking.MlflowClient()\n",
    "experiment = client.get_experiment_by_name(experiment_path)\n",
    "print(experiment)"
   ]
  },
  {
   "cell_type": "code",
   "execution_count": 0,
   "metadata": {
    "application/vnd.databricks.v1+cell": {
     "cellMetadata": {
      "byteLimit": 2048000,
      "rowLimit": 10000
     },
     "inputWidgets": {},
     "nuid": "70a91d6c-83ff-464a-bef6-ac3549cdac98",
     "showTitle": false,
     "tableResultSettingsMap": {},
     "title": ""
    }
   },
   "outputs": [],
   "source": [
    "# runs = client.search_runs(experiment_ids=[experiment.experiment_id], order_by=[f\"metrics.{selected_metric} DESC\"], max_results=1)\n",
    "runs = client.search_runs(experiment_ids=[exp.experiment_id], max_results=1)\n",
    "best_run_id = runs[0].info.run_id\n",
    "# print(best_run_id)\n",
    "model_uri = f\"runs:/{best_run_id}/pickle_model\"\n",
    "registered_model = mlflow.register_model(model_uri, \"IrisClassifierDemo\")\n",
    "client.set_registered_model_alias(name=registered_model.name, alias=\"challenger\", version=registered_model.version)\n",
    "print(registered_model)"
   ]
  }
 ],
 "metadata": {
  "application/vnd.databricks.v1+notebook": {
   "computePreferences": null,
   "dashboards": [],
   "environmentMetadata": {
    "base_environment": "",
    "environment_version": "4"
   },
   "inputWidgetPreferences": null,
   "language": "python",
   "notebookMetadata": {
    "mostRecentlyExecutedCommandWithImplicitDF": {
     "commandId": -1,
     "dataframes": [
      "_sqldf"
     ]
    },
    "pythonIndentUnit": 2
   },
   "notebookName": "pickle_to_mlflow_uc",
   "widgets": {
    "experiment_path": {
     "currentValue": "/Workspace/Users/hemapriya.nagarajan@databricks.com/models/hp_iris_ml",
     "nuid": "30e45f5f-cc27-464d-b78f-65f66d26fcc9",
     "typedWidgetInfo": {
      "autoCreated": false,
      "defaultValue": "/Workspace/Users/hemapriya.nagarajan@databricks.com/models/hp_iris_ml",
      "label": null,
      "name": "experiment_path",
      "options": {
       "validationRegex": null,
       "widgetDisplayType": "Text"
      },
      "parameterDataType": "String"
     },
     "widgetInfo": {
      "defaultValue": "/Workspace/Users/hemapriya.nagarajan@databricks.com/models/hp_iris_ml",
      "label": null,
      "name": "experiment_path",
      "options": {
       "autoCreated": null,
       "validationRegex": null,
       "widgetType": "text"
      },
      "widgetType": "text"
     }
    },
    "pkl_path": {
     "currentValue": "/Volumes/hp_az_catalog/hp_iris_ml/hp_ml_vol/iris_model.pkl",
     "nuid": "278bdee7-c250-417d-a153-d345976e8aed",
     "typedWidgetInfo": {
      "autoCreated": false,
      "defaultValue": "/Volumes/hp_az_catalog/hp_iris_ml/hp_ml_vol/iris_model.pkl",
      "label": null,
      "name": "pkl_path",
      "options": {
       "validationRegex": null,
       "widgetDisplayType": "Text"
      },
      "parameterDataType": "String"
     },
     "widgetInfo": {
      "defaultValue": "/Volumes/hp_az_catalog/hp_iris_ml/hp_ml_vol/iris_model.pkl",
      "label": null,
      "name": "pkl_path",
      "options": {
       "autoCreated": null,
       "validationRegex": null,
       "widgetType": "text"
      },
      "widgetType": "text"
     }
    }
   }
  },
  "language_info": {
   "name": "python"
  }
 },
 "nbformat": 4,
 "nbformat_minor": 0
}
